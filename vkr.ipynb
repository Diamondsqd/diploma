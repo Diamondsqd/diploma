{
 "cells": [
  {
   "cell_type": "code",
   "execution_count": 2,
   "id": "4f31c20d-16b3-4eb1-86ad-6364025fba78",
   "metadata": {},
   "outputs": [],
   "source": [
    "import pandas as pd\n",
    "import numpy as np\n",
    "import os\n",
    "from sklearn.model_selection import train_test_split, cross_val_score, GridSearchCV\n",
    "from sklearn.preprocessing import StandardScaler, OneHotEncoder\n",
    "from sklearn.compose import ColumnTransformer\n",
    "from sklearn.pipeline import Pipeline\n",
    "from sklearn.linear_model import LinearRegression\n",
    "from sklearn.ensemble import RandomForestRegressor\n",
    "from xgboost import XGBRegressor\n",
    "import lightgbm as lgb\n",
    "from sklearn.neural_network import MLPRegressor\n",
    "from sklearn.metrics import mean_absolute_error, mean_squared_error, r2_score\n",
    "import matplotlib.pyplot as plt\n",
    "import joblib\n",
    "import pulp\n",
    "import itertools"
   ]
  },
  {
   "cell_type": "code",
   "execution_count": 27,
   "id": "a0c6e738-9e5f-4ab0-9a8e-ae3e279220f5",
   "metadata": {},
   "outputs": [],
   "source": [
    "DATA_PATH = 'transport_dataset_ml.csv'\n",
    "OUTPUT_DIR = 'model_outputs'\n",
    "os.makedirs(OUTPUT_DIR, exist_ok=True)"
   ]
  },
  {
   "cell_type": "code",
   "execution_count": 28,
   "id": "51bd8239-4700-45be-9108-f06bc7eced86",
   "metadata": {},
   "outputs": [],
   "source": [
    "df = pd.read_csv(DATA_PATH)\n",
    "X = df.drop('price_rub', axis=1)\n",
    "y = df['price_rub']"
   ]
  },
  {
   "cell_type": "code",
   "execution_count": 5,
   "id": "900d6cce-1818-487c-b359-c933cb52591d",
   "metadata": {},
   "outputs": [],
   "source": [
    "numeric_features     = ['distance_km', 'weight_tons', 'volume_m3', 'fuel_price']\n",
    "categorical_features = ['origin_city', 'destination_city', 'cargo_type', 'transport_type', 'season', 'day_of_week']\n",
    "preprocessor = ColumnTransformer([\n",
    "    ('num', StandardScaler(), numeric_features),\n",
    "    ('cat', OneHotEncoder(sparse_output=False, handle_unknown='ignore'), categorical_features)\n",
    "], remainder='drop')"
   ]
  },
  {
   "cell_type": "code",
   "execution_count": 6,
   "id": "15cda6c5-4cee-4ff7-99a6-86319ba90f7e",
   "metadata": {},
   "outputs": [],
   "source": [
    "X_train, X_test, y_train, y_test = train_test_split(\n",
    "    X, y, test_size=0.2, random_state=42\n",
    ")\n"
   ]
  },
  {
   "cell_type": "code",
   "execution_count": 7,
   "id": "4c6b382c-3417-4e21-bf1d-6c14c14729f1",
   "metadata": {},
   "outputs": [],
   "source": [
    "models = {\n",
    "    'LinearRegression': LinearRegression(),\n",
    "    'RandomForest': RandomForestRegressor(n_estimators=100, random_state=42),\n",
    "    'XGBoost': XGBRegressor(n_estimators=100, learning_rate=0.1, random_state=42),\n",
    "    'LightGBM': lgb.LGBMRegressor(n_estimators=100, learning_rate=0.1, force_col_wise='true', random_state=42),\n",
    "    'MLP': MLPRegressor(random_state=42, max_iter=500, early_stopping=True)\n",
    "}\n"
   ]
  },
  {
   "cell_type": "code",
   "execution_count": 8,
   "id": "29bacf63-5bd9-4b5d-9ab9-dc548ef5b129",
   "metadata": {},
   "outputs": [
    {
     "name": "stdout",
     "output_type": "stream",
     "text": [
      "[LightGBM] [Info] Total Bins 1078\n",
      "[LightGBM] [Info] Number of data points in the train set: 64000, number of used features: 33\n",
      "[LightGBM] [Info] Start training from score 4659.171268\n"
     ]
    },
    {
     "name": "stderr",
     "output_type": "stream",
     "text": [
      "C:\\Users\\вввв\\AppData\\Local\\Programs\\Python\\Python313\\Lib\\site-packages\\sklearn\\utils\\validation.py:2739: UserWarning: X does not have valid feature names, but LGBMRegressor was fitted with feature names\n",
      "  warnings.warn(\n"
     ]
    },
    {
     "name": "stdout",
     "output_type": "stream",
     "text": [
      "[LightGBM] [Info] Total Bins 1078\n",
      "[LightGBM] [Info] Number of data points in the train set: 64000, number of used features: 33\n",
      "[LightGBM] [Info] Start training from score 4658.764364\n"
     ]
    },
    {
     "name": "stderr",
     "output_type": "stream",
     "text": [
      "C:\\Users\\вввв\\AppData\\Local\\Programs\\Python\\Python313\\Lib\\site-packages\\sklearn\\utils\\validation.py:2739: UserWarning: X does not have valid feature names, but LGBMRegressor was fitted with feature names\n",
      "  warnings.warn(\n"
     ]
    },
    {
     "name": "stdout",
     "output_type": "stream",
     "text": [
      "[LightGBM] [Info] Total Bins 1078\n",
      "[LightGBM] [Info] Number of data points in the train set: 64000, number of used features: 33\n",
      "[LightGBM] [Info] Start training from score 4655.543410\n"
     ]
    },
    {
     "name": "stderr",
     "output_type": "stream",
     "text": [
      "C:\\Users\\вввв\\AppData\\Local\\Programs\\Python\\Python313\\Lib\\site-packages\\sklearn\\utils\\validation.py:2739: UserWarning: X does not have valid feature names, but LGBMRegressor was fitted with feature names\n",
      "  warnings.warn(\n"
     ]
    },
    {
     "name": "stdout",
     "output_type": "stream",
     "text": [
      "[LightGBM] [Info] Total Bins 1078\n",
      "[LightGBM] [Info] Number of data points in the train set: 64000, number of used features: 33\n",
      "[LightGBM] [Info] Start training from score 4658.786494\n"
     ]
    },
    {
     "name": "stderr",
     "output_type": "stream",
     "text": [
      "C:\\Users\\вввв\\AppData\\Local\\Programs\\Python\\Python313\\Lib\\site-packages\\sklearn\\utils\\validation.py:2739: UserWarning: X does not have valid feature names, but LGBMRegressor was fitted with feature names\n",
      "  warnings.warn(\n"
     ]
    },
    {
     "name": "stdout",
     "output_type": "stream",
     "text": [
      "[LightGBM] [Info] Total Bins 1078\n",
      "[LightGBM] [Info] Number of data points in the train set: 64000, number of used features: 33\n",
      "[LightGBM] [Info] Start training from score 4647.185876\n"
     ]
    },
    {
     "name": "stderr",
     "output_type": "stream",
     "text": [
      "C:\\Users\\вввв\\AppData\\Local\\Programs\\Python\\Python313\\Lib\\site-packages\\sklearn\\utils\\validation.py:2739: UserWarning: X does not have valid feature names, but LGBMRegressor was fitted with feature names\n",
      "  warnings.warn(\n"
     ]
    },
    {
     "name": "stdout",
     "output_type": "stream",
     "text": [
      "[LightGBM] [Info] Total Bins 1078\n",
      "[LightGBM] [Info] Number of data points in the train set: 64000, number of used features: 33\n",
      "[LightGBM] [Info] Start training from score 4659.171268\n"
     ]
    },
    {
     "name": "stderr",
     "output_type": "stream",
     "text": [
      "C:\\Users\\вввв\\AppData\\Local\\Programs\\Python\\Python313\\Lib\\site-packages\\sklearn\\utils\\validation.py:2739: UserWarning: X does not have valid feature names, but LGBMRegressor was fitted with feature names\n",
      "  warnings.warn(\n"
     ]
    },
    {
     "name": "stdout",
     "output_type": "stream",
     "text": [
      "[LightGBM] [Info] Total Bins 1078\n",
      "[LightGBM] [Info] Number of data points in the train set: 64000, number of used features: 33\n",
      "[LightGBM] [Info] Start training from score 4658.764364\n"
     ]
    },
    {
     "name": "stderr",
     "output_type": "stream",
     "text": [
      "C:\\Users\\вввв\\AppData\\Local\\Programs\\Python\\Python313\\Lib\\site-packages\\sklearn\\utils\\validation.py:2739: UserWarning: X does not have valid feature names, but LGBMRegressor was fitted with feature names\n",
      "  warnings.warn(\n"
     ]
    },
    {
     "name": "stdout",
     "output_type": "stream",
     "text": [
      "[LightGBM] [Info] Total Bins 1078\n",
      "[LightGBM] [Info] Number of data points in the train set: 64000, number of used features: 33\n",
      "[LightGBM] [Info] Start training from score 4655.543410\n"
     ]
    },
    {
     "name": "stderr",
     "output_type": "stream",
     "text": [
      "C:\\Users\\вввв\\AppData\\Local\\Programs\\Python\\Python313\\Lib\\site-packages\\sklearn\\utils\\validation.py:2739: UserWarning: X does not have valid feature names, but LGBMRegressor was fitted with feature names\n",
      "  warnings.warn(\n"
     ]
    },
    {
     "name": "stdout",
     "output_type": "stream",
     "text": [
      "[LightGBM] [Info] Total Bins 1078\n",
      "[LightGBM] [Info] Number of data points in the train set: 64000, number of used features: 33\n",
      "[LightGBM] [Info] Start training from score 4658.786494\n"
     ]
    },
    {
     "name": "stderr",
     "output_type": "stream",
     "text": [
      "C:\\Users\\вввв\\AppData\\Local\\Programs\\Python\\Python313\\Lib\\site-packages\\sklearn\\utils\\validation.py:2739: UserWarning: X does not have valid feature names, but LGBMRegressor was fitted with feature names\n",
      "  warnings.warn(\n"
     ]
    },
    {
     "name": "stdout",
     "output_type": "stream",
     "text": [
      "[LightGBM] [Info] Total Bins 1078\n",
      "[LightGBM] [Info] Number of data points in the train set: 64000, number of used features: 33\n",
      "[LightGBM] [Info] Start training from score 4647.185876\n"
     ]
    },
    {
     "name": "stderr",
     "output_type": "stream",
     "text": [
      "C:\\Users\\вввв\\AppData\\Local\\Programs\\Python\\Python313\\Lib\\site-packages\\sklearn\\utils\\validation.py:2739: UserWarning: X does not have valid feature names, but LGBMRegressor was fitted with feature names\n",
      "  warnings.warn(\n"
     ]
    },
    {
     "name": "stdout",
     "output_type": "stream",
     "text": [
      "[LightGBM] [Info] Total Bins 1078\n",
      "[LightGBM] [Info] Number of data points in the train set: 64000, number of used features: 33\n",
      "[LightGBM] [Info] Start training from score 4659.171268\n"
     ]
    },
    {
     "name": "stderr",
     "output_type": "stream",
     "text": [
      "C:\\Users\\вввв\\AppData\\Local\\Programs\\Python\\Python313\\Lib\\site-packages\\sklearn\\utils\\validation.py:2739: UserWarning: X does not have valid feature names, but LGBMRegressor was fitted with feature names\n",
      "  warnings.warn(\n"
     ]
    },
    {
     "name": "stdout",
     "output_type": "stream",
     "text": [
      "[LightGBM] [Info] Total Bins 1078\n",
      "[LightGBM] [Info] Number of data points in the train set: 64000, number of used features: 33\n",
      "[LightGBM] [Info] Start training from score 4658.764364\n"
     ]
    },
    {
     "name": "stderr",
     "output_type": "stream",
     "text": [
      "C:\\Users\\вввв\\AppData\\Local\\Programs\\Python\\Python313\\Lib\\site-packages\\sklearn\\utils\\validation.py:2739: UserWarning: X does not have valid feature names, but LGBMRegressor was fitted with feature names\n",
      "  warnings.warn(\n"
     ]
    },
    {
     "name": "stdout",
     "output_type": "stream",
     "text": [
      "[LightGBM] [Info] Total Bins 1078\n",
      "[LightGBM] [Info] Number of data points in the train set: 64000, number of used features: 33\n",
      "[LightGBM] [Info] Start training from score 4655.543410\n"
     ]
    },
    {
     "name": "stderr",
     "output_type": "stream",
     "text": [
      "C:\\Users\\вввв\\AppData\\Local\\Programs\\Python\\Python313\\Lib\\site-packages\\sklearn\\utils\\validation.py:2739: UserWarning: X does not have valid feature names, but LGBMRegressor was fitted with feature names\n",
      "  warnings.warn(\n"
     ]
    },
    {
     "name": "stdout",
     "output_type": "stream",
     "text": [
      "[LightGBM] [Info] Total Bins 1078\n",
      "[LightGBM] [Info] Number of data points in the train set: 64000, number of used features: 33\n",
      "[LightGBM] [Info] Start training from score 4658.786494\n"
     ]
    },
    {
     "name": "stderr",
     "output_type": "stream",
     "text": [
      "C:\\Users\\вввв\\AppData\\Local\\Programs\\Python\\Python313\\Lib\\site-packages\\sklearn\\utils\\validation.py:2739: UserWarning: X does not have valid feature names, but LGBMRegressor was fitted with feature names\n",
      "  warnings.warn(\n"
     ]
    },
    {
     "name": "stdout",
     "output_type": "stream",
     "text": [
      "[LightGBM] [Info] Total Bins 1078\n",
      "[LightGBM] [Info] Number of data points in the train set: 64000, number of used features: 33\n",
      "[LightGBM] [Info] Start training from score 4647.185876\n"
     ]
    },
    {
     "name": "stderr",
     "output_type": "stream",
     "text": [
      "C:\\Users\\вввв\\AppData\\Local\\Programs\\Python\\Python313\\Lib\\site-packages\\sklearn\\utils\\validation.py:2739: UserWarning: X does not have valid feature names, but LGBMRegressor was fitted with feature names\n",
      "  warnings.warn(\n"
     ]
    },
    {
     "name": "stdout",
     "output_type": "stream",
     "text": [
      "[LightGBM] [Info] Total Bins 1078\n",
      "[LightGBM] [Info] Number of data points in the train set: 80000, number of used features: 33\n",
      "[LightGBM] [Info] Start training from score 4655.890283\n"
     ]
    },
    {
     "name": "stderr",
     "output_type": "stream",
     "text": [
      "C:\\Users\\вввв\\AppData\\Local\\Programs\\Python\\Python313\\Lib\\site-packages\\sklearn\\utils\\validation.py:2739: UserWarning: X does not have valid feature names, but LGBMRegressor was fitted with feature names\n",
      "  warnings.warn(\n"
     ]
    },
    {
     "name": "stdout",
     "output_type": "stream",
     "text": [
      "Кросс-валидация:\n",
      "                   CV MAE  CV RMSE  CV R2\n",
      "Model                                   \n",
      "LinearRegression  770.19  1089.25   0.89\n",
      "RandomForest       22.38    30.86   1.00\n",
      "XGBoost            25.20    33.74   1.00\n",
      "LightGBM           31.75    42.33   1.00\n",
      "MLP               100.91   139.95   1.00\n",
      "\n",
      "Тестовые результаты:\n",
      "                      MAE     RMSE    R2\n",
      "Model                                  \n",
      "LinearRegression  768.30  1084.61  0.89\n",
      "RandomForest       21.22    29.14  1.00\n",
      "XGBoost            24.51    32.70  1.00\n",
      "LightGBM           31.08    41.24  1.00\n",
      "MLP                70.13    94.92  1.00\n",
      "\n",
      "Графики и важности сохранены в папке: model_outputs\n"
     ]
    }
   ],
   "source": [
    "cv_results = []\n",
    "test_results = []\n",
    "\n",
    "for name, model in models.items():\n",
    "    pipe = Pipeline([('preproc', preprocessor), ('model', model)])\n",
    "    \n",
    "    mae_cv  = -cross_val_score(pipe, X_train, y_train, cv=5,\n",
    "                               scoring='neg_mean_absolute_error').mean()\n",
    "    rmse_cv = np.sqrt(-cross_val_score(pipe, X_train, y_train, cv=5,\n",
    "                                       scoring='neg_mean_squared_error').mean())\n",
    "    r2_cv   = cross_val_score(pipe, X_train, y_train, cv=5,\n",
    "                              scoring='r2').mean()\n",
    "    cv_results.append({'Model': name, 'CV MAE': round(mae_cv,2),\n",
    "                       'CV RMSE': round(rmse_cv,2), 'CV R2': round(r2_cv,2)})\n",
    "    \n",
    "    pipe.fit(X_train, y_train)\n",
    "    y_pred = pipe.predict(X_test)\n",
    "    mae, rmse, r2 = (mean_absolute_error(y_test, y_pred),\n",
    "                     np.sqrt(mean_squared_error(y_test, y_pred)),\n",
    "                     r2_score(y_test, y_pred))\n",
    "    test_results.append({'Model': name, 'MAE': round(mae,2),\n",
    "                         'RMSE': round(rmse,2), 'R2': round(r2,2)})\n",
    "    \n",
    "    plt.figure(figsize=(5,5))\n",
    "    plt.scatter(y_test, y_pred, s=10, alpha=0.6)\n",
    "    mn, mx = min(y_test.min(), y_pred.min()), max(y_test.max(), y_pred.max())\n",
    "    plt.plot([mn, mx], [mn, mx], '--', c='gray')\n",
    "    plt.xlabel('Фактические цены')\n",
    "    plt.ylabel('Прогнозные цены')\n",
    "    plt.title(f'{name}: Фактические vs Прогнозные')\n",
    "    plt.tight_layout()\n",
    "    plt.savefig(os.path.join(OUTPUT_DIR, f'{name}_scatter.png'))\n",
    "    plt.close()\n",
    "    \n",
    "    if hasattr(model, 'feature_importances_') or hasattr(pipe.named_steps['model'], 'feature_importances_'):\n",
    "        feat_imp = pipe.named_steps['model'].feature_importances_\n",
    "        cat_names = pipe.named_steps['preproc']\\\n",
    "            .named_transformers_['cat']\\\n",
    "            .get_feature_names_out(categorical_features)\n",
    "        feat_names = numeric_features + list(cat_names)\n",
    "        idx = np.argsort(feat_imp)[-10:]\n",
    "        plt.figure(figsize=(6,4))\n",
    "        plt.barh(np.array(feat_names)[idx], feat_imp[idx])\n",
    "        plt.xlabel('Важность признака')\n",
    "        plt.title(f'{name}: Топ-10 признаков')\n",
    "        plt.tight_layout()\n",
    "        plt.savefig(os.path.join(OUTPUT_DIR, f'{name}_featimp.png'))\n",
    "        plt.close()\n",
    "\n",
    "cv_df   = pd.DataFrame(cv_results).set_index('Model')\n",
    "test_df = pd.DataFrame(test_results).set_index('Model')\n",
    "\n",
    "cv_df.to_csv(os.path.join(OUTPUT_DIR, 'cv_results.csv'))\n",
    "test_df.to_csv(os.path.join(OUTPUT_DIR, 'test_results.csv'))\n",
    "\n",
    "print(\"Кросс-валидация:\\n\", cv_df)\n",
    "print(\"\\nТестовые результаты:\\n\", test_df)\n",
    "print(f\"\\nГрафики и важности сохранены в папке: {OUTPUT_DIR}\")"
   ]
  },
  {
   "cell_type": "code",
   "execution_count": 9,
   "id": "e25145f6-36cc-4a8f-bb0a-448541636c36",
   "metadata": {},
   "outputs": [
    {
     "name": "stdout",
     "output_type": "stream",
     "text": [
      "Сохранён XGBoost-пайплайн в файл xgboost_pipeline.pkl\n",
      "[LightGBM] [Info] Total Bins 1078\n",
      "[LightGBM] [Info] Number of data points in the train set: 80000, number of used features: 33\n",
      "[LightGBM] [Info] Start training from score 4655.890283\n"
     ]
    }
   ],
   "source": [
    "for name, model in models.items():\n",
    "    pipe = Pipeline([('preproc', preprocessor), ('model', model)])\n",
    "    pipe.fit(X_train, y_train)\n",
    "    if name == 'XGBoost':\n",
    "        joblib.dump(pipe, 'xgboost_pipeline.pkl')\n",
    "        print(\"Сохранён XGBoost-пайплайн в файл xgboost_pipeline.pkl\")"
   ]
  },
  {
   "cell_type": "code",
   "execution_count": 29,
   "id": "b73c66ad-597c-45e7-afae-d3f0533a4923",
   "metadata": {},
   "outputs": [],
   "source": [
    "model = joblib.load('xgboost_pipeline.pkl')\n",
    "df    = pd.read_csv('transport_dataset_ml.csv')"
   ]
  },
  {
   "cell_type": "code",
   "execution_count": 30,
   "id": "d4491079-294a-47e3-a35c-612ef67ed2ce",
   "metadata": {},
   "outputs": [],
   "source": [
    "supply   = df.groupby('origin_city')['weight_tons'].sum().to_dict()\n",
    "demand   = df.groupby('destination_city')['weight_tons'].sum().to_dict()\n",
    "suppliers  = list(supply.keys())\n",
    "consumers  = list(demand.keys())"
   ]
  },
  {
   "cell_type": "code",
   "execution_count": 31,
   "id": "c80f6517-e6e5-4d95-92d8-1cc21002df16",
   "metadata": {},
   "outputs": [],
   "source": [
    "grid = pd.DataFrame(\n",
    "    itertools.product(suppliers, consumers),\n",
    "    columns=['origin_city','destination_city']\n",
    ")"
   ]
  },
  {
   "cell_type": "code",
   "execution_count": 32,
   "id": "a423cbd4-9fee-4e67-a901-b9ceadefdac4",
   "metadata": {},
   "outputs": [],
   "source": [
    "numeric_cols = ['distance_km','weight_tons','volume_m3','fuel_price']\n",
    "agg_num = (\n",
    "    df\n",
    "    .groupby(['origin_city','destination_city'])[numeric_cols]\n",
    "    .mean()\n",
    "    .reset_index()\n",
    ")\n",
    "categorical_cols = ['cargo_type','transport_type','season','day_of_week']\n",
    "agg_cat = (\n",
    "    df\n",
    "    .groupby(['origin_city','destination_city'])[categorical_cols]\n",
    "    .agg(lambda x: x.mode().iat[0])\n",
    "    .reset_index()\n",
    ")\n"
   ]
  },
  {
   "cell_type": "code",
   "execution_count": 33,
   "id": "8a96a202-77fa-4ff0-a5b4-42a120844123",
   "metadata": {},
   "outputs": [],
   "source": [
    "grid = (\n",
    "    grid\n",
    "    .merge(agg_num, on=['origin_city','destination_city'], how='left')\n",
    "    .merge(agg_cat, on=['origin_city','destination_city'], how='left')\n",
    ")\n"
   ]
  },
  {
   "cell_type": "code",
   "execution_count": 34,
   "id": "e4e6a834-7358-4587-ab52-64b81b39c0f4",
   "metadata": {},
   "outputs": [],
   "source": [
    "avg = (\n",
    "    df\n",
    "    .groupby(['origin_city','destination_city'])['price_rub']\n",
    "    .mean()\n",
    "    .reset_index(name='avg_cost')\n",
    ")\n",
    "grid = grid.merge(avg, on=['origin_city','destination_city'], how='left')"
   ]
  },
  {
   "cell_type": "code",
   "execution_count": 35,
   "id": "ba725b8b-79e4-45c2-aab0-259c5c7b8caf",
   "metadata": {},
   "outputs": [
    {
     "data": {
      "text/html": [
       "<div>\n",
       "<style scoped>\n",
       "    .dataframe tbody tr th:only-of-type {\n",
       "        vertical-align: middle;\n",
       "    }\n",
       "\n",
       "    .dataframe tbody tr th {\n",
       "        vertical-align: top;\n",
       "    }\n",
       "\n",
       "    .dataframe thead th {\n",
       "        text-align: right;\n",
       "    }\n",
       "</style>\n",
       "<table border=\"1\" class=\"dataframe\">\n",
       "  <thead>\n",
       "    <tr style=\"text-align: right;\">\n",
       "      <th></th>\n",
       "      <th>origin_city</th>\n",
       "      <th>destination_city</th>\n",
       "      <th>distance_km</th>\n",
       "      <th>weight_tons</th>\n",
       "      <th>volume_m3</th>\n",
       "      <th>fuel_price</th>\n",
       "      <th>cargo_type</th>\n",
       "      <th>transport_type</th>\n",
       "      <th>season</th>\n",
       "      <th>day_of_week</th>\n",
       "      <th>avg_cost</th>\n",
       "      <th>pred_cost</th>\n",
       "    </tr>\n",
       "  </thead>\n",
       "  <tbody>\n",
       "    <tr>\n",
       "      <th>0</th>\n",
       "      <td>Екатеринбург</td>\n",
       "      <td>Екатеринбург</td>\n",
       "      <td>1510.146660</td>\n",
       "      <td>10.267220</td>\n",
       "      <td>50.657626</td>\n",
       "      <td>59.619687</td>\n",
       "      <td>общий</td>\n",
       "      <td>авиа</td>\n",
       "      <td>зима</td>\n",
       "      <td>Сб</td>\n",
       "      <td>4550.812753</td>\n",
       "      <td>6471.020508</td>\n",
       "    </tr>\n",
       "    <tr>\n",
       "      <th>1</th>\n",
       "      <td>Екатеринбург</td>\n",
       "      <td>Казань</td>\n",
       "      <td>1545.446246</td>\n",
       "      <td>10.142774</td>\n",
       "      <td>50.476433</td>\n",
       "      <td>60.390973</td>\n",
       "      <td>общий</td>\n",
       "      <td>авиа</td>\n",
       "      <td>зима</td>\n",
       "      <td>Пн</td>\n",
       "      <td>4652.023392</td>\n",
       "      <td>6672.660645</td>\n",
       "    </tr>\n",
       "    <tr>\n",
       "      <th>2</th>\n",
       "      <td>Екатеринбург</td>\n",
       "      <td>Москва</td>\n",
       "      <td>1539.615022</td>\n",
       "      <td>10.242313</td>\n",
       "      <td>49.839631</td>\n",
       "      <td>60.128426</td>\n",
       "      <td>опасный</td>\n",
       "      <td>морской</td>\n",
       "      <td>осень</td>\n",
       "      <td>Ср</td>\n",
       "      <td>4579.449978</td>\n",
       "      <td>4034.024170</td>\n",
       "    </tr>\n",
       "    <tr>\n",
       "      <th>3</th>\n",
       "      <td>Екатеринбург</td>\n",
       "      <td>Новосибирск</td>\n",
       "      <td>1556.961090</td>\n",
       "      <td>10.227408</td>\n",
       "      <td>51.109730</td>\n",
       "      <td>59.923487</td>\n",
       "      <td>общий</td>\n",
       "      <td>жд</td>\n",
       "      <td>лето</td>\n",
       "      <td>Пт</td>\n",
       "      <td>4685.611242</td>\n",
       "      <td>3002.842529</td>\n",
       "    </tr>\n",
       "    <tr>\n",
       "      <th>4</th>\n",
       "      <td>Екатеринбург</td>\n",
       "      <td>Санкт-Петербург</td>\n",
       "      <td>1569.300346</td>\n",
       "      <td>10.378346</td>\n",
       "      <td>50.349294</td>\n",
       "      <td>60.231478</td>\n",
       "      <td>опасный</td>\n",
       "      <td>жд</td>\n",
       "      <td>зима</td>\n",
       "      <td>Чт</td>\n",
       "      <td>4666.061133</td>\n",
       "      <td>4451.127441</td>\n",
       "    </tr>\n",
       "    <tr>\n",
       "      <th>5</th>\n",
       "      <td>Казань</td>\n",
       "      <td>Екатеринбург</td>\n",
       "      <td>1556.824755</td>\n",
       "      <td>10.259885</td>\n",
       "      <td>51.405697</td>\n",
       "      <td>59.959402</td>\n",
       "      <td>опасный</td>\n",
       "      <td>жд</td>\n",
       "      <td>осень</td>\n",
       "      <td>Пт</td>\n",
       "      <td>4717.597951</td>\n",
       "      <td>4451.127441</td>\n",
       "    </tr>\n",
       "    <tr>\n",
       "      <th>6</th>\n",
       "      <td>Казань</td>\n",
       "      <td>Казань</td>\n",
       "      <td>1558.821383</td>\n",
       "      <td>10.280469</td>\n",
       "      <td>49.378214</td>\n",
       "      <td>60.193030</td>\n",
       "      <td>хрупкий</td>\n",
       "      <td>авто</td>\n",
       "      <td>весна</td>\n",
       "      <td>Чт</td>\n",
       "      <td>4660.148168</td>\n",
       "      <td>3658.835449</td>\n",
       "    </tr>\n",
       "    <tr>\n",
       "      <th>7</th>\n",
       "      <td>Казань</td>\n",
       "      <td>Москва</td>\n",
       "      <td>1546.668917</td>\n",
       "      <td>10.386650</td>\n",
       "      <td>51.034687</td>\n",
       "      <td>59.670431</td>\n",
       "      <td>скоропортящийся</td>\n",
       "      <td>авто</td>\n",
       "      <td>осень</td>\n",
       "      <td>Вс</td>\n",
       "      <td>4585.354726</td>\n",
       "      <td>3954.361084</td>\n",
       "    </tr>\n",
       "    <tr>\n",
       "      <th>8</th>\n",
       "      <td>Казань</td>\n",
       "      <td>Новосибирск</td>\n",
       "      <td>1550.740246</td>\n",
       "      <td>10.318450</td>\n",
       "      <td>50.249612</td>\n",
       "      <td>60.087461</td>\n",
       "      <td>опасный</td>\n",
       "      <td>авто</td>\n",
       "      <td>зима</td>\n",
       "      <td>Ср</td>\n",
       "      <td>4649.967716</td>\n",
       "      <td>5012.309082</td>\n",
       "    </tr>\n",
       "    <tr>\n",
       "      <th>9</th>\n",
       "      <td>Казань</td>\n",
       "      <td>Санкт-Петербург</td>\n",
       "      <td>1542.520099</td>\n",
       "      <td>10.152242</td>\n",
       "      <td>50.843909</td>\n",
       "      <td>60.166392</td>\n",
       "      <td>опасный</td>\n",
       "      <td>морской</td>\n",
       "      <td>весна</td>\n",
       "      <td>Вт</td>\n",
       "      <td>4651.959411</td>\n",
       "      <td>4036.223389</td>\n",
       "    </tr>\n",
       "    <tr>\n",
       "      <th>10</th>\n",
       "      <td>Москва</td>\n",
       "      <td>Екатеринбург</td>\n",
       "      <td>1555.635004</td>\n",
       "      <td>10.320755</td>\n",
       "      <td>49.766849</td>\n",
       "      <td>59.955186</td>\n",
       "      <td>хрупкий</td>\n",
       "      <td>авто</td>\n",
       "      <td>зима</td>\n",
       "      <td>Пт</td>\n",
       "      <td>4633.013206</td>\n",
       "      <td>3658.835449</td>\n",
       "    </tr>\n",
       "    <tr>\n",
       "      <th>11</th>\n",
       "      <td>Москва</td>\n",
       "      <td>Казань</td>\n",
       "      <td>1547.622751</td>\n",
       "      <td>10.189699</td>\n",
       "      <td>50.999017</td>\n",
       "      <td>60.043210</td>\n",
       "      <td>хрупкий</td>\n",
       "      <td>авто</td>\n",
       "      <td>весна</td>\n",
       "      <td>Пн</td>\n",
       "      <td>4626.484918</td>\n",
       "      <td>3658.835449</td>\n",
       "    </tr>\n",
       "    <tr>\n",
       "      <th>12</th>\n",
       "      <td>Москва</td>\n",
       "      <td>Москва</td>\n",
       "      <td>1558.434793</td>\n",
       "      <td>10.189237</td>\n",
       "      <td>51.261277</td>\n",
       "      <td>60.314188</td>\n",
       "      <td>опасный</td>\n",
       "      <td>авиа</td>\n",
       "      <td>весна</td>\n",
       "      <td>Пт</td>\n",
       "      <td>4741.981487</td>\n",
       "      <td>9975.904297</td>\n",
       "    </tr>\n",
       "    <tr>\n",
       "      <th>13</th>\n",
       "      <td>Москва</td>\n",
       "      <td>Новосибирск</td>\n",
       "      <td>1548.560010</td>\n",
       "      <td>10.451687</td>\n",
       "      <td>50.315727</td>\n",
       "      <td>60.230409</td>\n",
       "      <td>хрупкий</td>\n",
       "      <td>авиа</td>\n",
       "      <td>зима</td>\n",
       "      <td>Ср</td>\n",
       "      <td>4672.062563</td>\n",
       "      <td>7304.942383</td>\n",
       "    </tr>\n",
       "    <tr>\n",
       "      <th>14</th>\n",
       "      <td>Москва</td>\n",
       "      <td>Санкт-Петербург</td>\n",
       "      <td>1568.022308</td>\n",
       "      <td>10.278962</td>\n",
       "      <td>50.580740</td>\n",
       "      <td>59.999464</td>\n",
       "      <td>опасный</td>\n",
       "      <td>морской</td>\n",
       "      <td>весна</td>\n",
       "      <td>Пт</td>\n",
       "      <td>4707.945116</td>\n",
       "      <td>4036.223389</td>\n",
       "    </tr>\n",
       "    <tr>\n",
       "      <th>15</th>\n",
       "      <td>Новосибирск</td>\n",
       "      <td>Екатеринбург</td>\n",
       "      <td>1544.277054</td>\n",
       "      <td>10.267275</td>\n",
       "      <td>50.210391</td>\n",
       "      <td>60.148079</td>\n",
       "      <td>общий</td>\n",
       "      <td>авто</td>\n",
       "      <td>осень</td>\n",
       "      <td>Вс</td>\n",
       "      <td>4576.191015</td>\n",
       "      <td>3344.240723</td>\n",
       "    </tr>\n",
       "    <tr>\n",
       "      <th>16</th>\n",
       "      <td>Новосибирск</td>\n",
       "      <td>Казань</td>\n",
       "      <td>1562.989193</td>\n",
       "      <td>10.092596</td>\n",
       "      <td>49.828882</td>\n",
       "      <td>60.248585</td>\n",
       "      <td>скоропортящийся</td>\n",
       "      <td>морской</td>\n",
       "      <td>весна</td>\n",
       "      <td>Чт</td>\n",
       "      <td>4657.062669</td>\n",
       "      <td>3178.737305</td>\n",
       "    </tr>\n",
       "    <tr>\n",
       "      <th>17</th>\n",
       "      <td>Новосибирск</td>\n",
       "      <td>Москва</td>\n",
       "      <td>1546.780697</td>\n",
       "      <td>10.242239</td>\n",
       "      <td>49.840829</td>\n",
       "      <td>59.952506</td>\n",
       "      <td>скоропортящийся</td>\n",
       "      <td>морской</td>\n",
       "      <td>весна</td>\n",
       "      <td>Вс</td>\n",
       "      <td>4674.627466</td>\n",
       "      <td>3178.737305</td>\n",
       "    </tr>\n",
       "    <tr>\n",
       "      <th>18</th>\n",
       "      <td>Новосибирск</td>\n",
       "      <td>Новосибирск</td>\n",
       "      <td>1574.642113</td>\n",
       "      <td>10.284538</td>\n",
       "      <td>49.943383</td>\n",
       "      <td>59.786625</td>\n",
       "      <td>скоропортящийся</td>\n",
       "      <td>авиа</td>\n",
       "      <td>зима</td>\n",
       "      <td>Вс</td>\n",
       "      <td>4790.201025</td>\n",
       "      <td>8040.548340</td>\n",
       "    </tr>\n",
       "    <tr>\n",
       "      <th>19</th>\n",
       "      <td>Новосибирск</td>\n",
       "      <td>Санкт-Петербург</td>\n",
       "      <td>1550.931210</td>\n",
       "      <td>10.200787</td>\n",
       "      <td>50.170176</td>\n",
       "      <td>59.881659</td>\n",
       "      <td>хрупкий</td>\n",
       "      <td>жд</td>\n",
       "      <td>весна</td>\n",
       "      <td>Вс</td>\n",
       "      <td>4676.668578</td>\n",
       "      <td>3301.703125</td>\n",
       "    </tr>\n",
       "    <tr>\n",
       "      <th>20</th>\n",
       "      <td>Санкт-Петербург</td>\n",
       "      <td>Екатеринбург</td>\n",
       "      <td>1571.275373</td>\n",
       "      <td>10.267226</td>\n",
       "      <td>50.494149</td>\n",
       "      <td>59.925896</td>\n",
       "      <td>хрупкий</td>\n",
       "      <td>авиа</td>\n",
       "      <td>весна</td>\n",
       "      <td>Сб</td>\n",
       "      <td>4740.744164</td>\n",
       "      <td>7304.942383</td>\n",
       "    </tr>\n",
       "    <tr>\n",
       "      <th>21</th>\n",
       "      <td>Санкт-Петербург</td>\n",
       "      <td>Казань</td>\n",
       "      <td>1554.637365</td>\n",
       "      <td>10.195104</td>\n",
       "      <td>50.610393</td>\n",
       "      <td>59.993644</td>\n",
       "      <td>хрупкий</td>\n",
       "      <td>авиа</td>\n",
       "      <td>лето</td>\n",
       "      <td>Вт</td>\n",
       "      <td>4699.013649</td>\n",
       "      <td>7304.942383</td>\n",
       "    </tr>\n",
       "    <tr>\n",
       "      <th>22</th>\n",
       "      <td>Санкт-Петербург</td>\n",
       "      <td>Москва</td>\n",
       "      <td>1543.209111</td>\n",
       "      <td>10.219126</td>\n",
       "      <td>50.750921</td>\n",
       "      <td>59.952034</td>\n",
       "      <td>общий</td>\n",
       "      <td>авто</td>\n",
       "      <td>весна</td>\n",
       "      <td>Пн</td>\n",
       "      <td>4572.604951</td>\n",
       "      <td>3344.240723</td>\n",
       "    </tr>\n",
       "    <tr>\n",
       "      <th>23</th>\n",
       "      <td>Санкт-Петербург</td>\n",
       "      <td>Новосибирск</td>\n",
       "      <td>1559.532315</td>\n",
       "      <td>10.178124</td>\n",
       "      <td>50.764622</td>\n",
       "      <td>59.894331</td>\n",
       "      <td>скоропортящийся</td>\n",
       "      <td>морской</td>\n",
       "      <td>зима</td>\n",
       "      <td>Пн</td>\n",
       "      <td>4606.871733</td>\n",
       "      <td>3180.936523</td>\n",
       "    </tr>\n",
       "    <tr>\n",
       "      <th>24</th>\n",
       "      <td>Санкт-Петербург</td>\n",
       "      <td>Санкт-Петербург</td>\n",
       "      <td>1543.774631</td>\n",
       "      <td>10.298212</td>\n",
       "      <td>50.259746</td>\n",
       "      <td>60.178313</td>\n",
       "      <td>скоропортящийся</td>\n",
       "      <td>жд</td>\n",
       "      <td>осень</td>\n",
       "      <td>Пт</td>\n",
       "      <td>4623.468569</td>\n",
       "      <td>3564.073486</td>\n",
       "    </tr>\n",
       "  </tbody>\n",
       "</table>\n",
       "</div>"
      ],
      "text/plain": [
       "        origin_city destination_city  distance_km  weight_tons  volume_m3  \\\n",
       "0      Екатеринбург     Екатеринбург  1510.146660    10.267220  50.657626   \n",
       "1      Екатеринбург           Казань  1545.446246    10.142774  50.476433   \n",
       "2      Екатеринбург           Москва  1539.615022    10.242313  49.839631   \n",
       "3      Екатеринбург      Новосибирск  1556.961090    10.227408  51.109730   \n",
       "4      Екатеринбург  Санкт-Петербург  1569.300346    10.378346  50.349294   \n",
       "5            Казань     Екатеринбург  1556.824755    10.259885  51.405697   \n",
       "6            Казань           Казань  1558.821383    10.280469  49.378214   \n",
       "7            Казань           Москва  1546.668917    10.386650  51.034687   \n",
       "8            Казань      Новосибирск  1550.740246    10.318450  50.249612   \n",
       "9            Казань  Санкт-Петербург  1542.520099    10.152242  50.843909   \n",
       "10           Москва     Екатеринбург  1555.635004    10.320755  49.766849   \n",
       "11           Москва           Казань  1547.622751    10.189699  50.999017   \n",
       "12           Москва           Москва  1558.434793    10.189237  51.261277   \n",
       "13           Москва      Новосибирск  1548.560010    10.451687  50.315727   \n",
       "14           Москва  Санкт-Петербург  1568.022308    10.278962  50.580740   \n",
       "15      Новосибирск     Екатеринбург  1544.277054    10.267275  50.210391   \n",
       "16      Новосибирск           Казань  1562.989193    10.092596  49.828882   \n",
       "17      Новосибирск           Москва  1546.780697    10.242239  49.840829   \n",
       "18      Новосибирск      Новосибирск  1574.642113    10.284538  49.943383   \n",
       "19      Новосибирск  Санкт-Петербург  1550.931210    10.200787  50.170176   \n",
       "20  Санкт-Петербург     Екатеринбург  1571.275373    10.267226  50.494149   \n",
       "21  Санкт-Петербург           Казань  1554.637365    10.195104  50.610393   \n",
       "22  Санкт-Петербург           Москва  1543.209111    10.219126  50.750921   \n",
       "23  Санкт-Петербург      Новосибирск  1559.532315    10.178124  50.764622   \n",
       "24  Санкт-Петербург  Санкт-Петербург  1543.774631    10.298212  50.259746   \n",
       "\n",
       "    fuel_price       cargo_type transport_type season day_of_week  \\\n",
       "0    59.619687            общий           авиа   зима          Сб   \n",
       "1    60.390973            общий           авиа   зима          Пн   \n",
       "2    60.128426          опасный        морской  осень          Ср   \n",
       "3    59.923487            общий             жд   лето          Пт   \n",
       "4    60.231478          опасный             жд   зима          Чт   \n",
       "5    59.959402          опасный             жд  осень          Пт   \n",
       "6    60.193030          хрупкий           авто  весна          Чт   \n",
       "7    59.670431  скоропортящийся           авто  осень          Вс   \n",
       "8    60.087461          опасный           авто   зима          Ср   \n",
       "9    60.166392          опасный        морской  весна          Вт   \n",
       "10   59.955186          хрупкий           авто   зима          Пт   \n",
       "11   60.043210          хрупкий           авто  весна          Пн   \n",
       "12   60.314188          опасный           авиа  весна          Пт   \n",
       "13   60.230409          хрупкий           авиа   зима          Ср   \n",
       "14   59.999464          опасный        морской  весна          Пт   \n",
       "15   60.148079            общий           авто  осень          Вс   \n",
       "16   60.248585  скоропортящийся        морской  весна          Чт   \n",
       "17   59.952506  скоропортящийся        морской  весна          Вс   \n",
       "18   59.786625  скоропортящийся           авиа   зима          Вс   \n",
       "19   59.881659          хрупкий             жд  весна          Вс   \n",
       "20   59.925896          хрупкий           авиа  весна          Сб   \n",
       "21   59.993644          хрупкий           авиа   лето          Вт   \n",
       "22   59.952034            общий           авто  весна          Пн   \n",
       "23   59.894331  скоропортящийся        морской   зима          Пн   \n",
       "24   60.178313  скоропортящийся             жд  осень          Пт   \n",
       "\n",
       "       avg_cost    pred_cost  \n",
       "0   4550.812753  6471.020508  \n",
       "1   4652.023392  6672.660645  \n",
       "2   4579.449978  4034.024170  \n",
       "3   4685.611242  3002.842529  \n",
       "4   4666.061133  4451.127441  \n",
       "5   4717.597951  4451.127441  \n",
       "6   4660.148168  3658.835449  \n",
       "7   4585.354726  3954.361084  \n",
       "8   4649.967716  5012.309082  \n",
       "9   4651.959411  4036.223389  \n",
       "10  4633.013206  3658.835449  \n",
       "11  4626.484918  3658.835449  \n",
       "12  4741.981487  9975.904297  \n",
       "13  4672.062563  7304.942383  \n",
       "14  4707.945116  4036.223389  \n",
       "15  4576.191015  3344.240723  \n",
       "16  4657.062669  3178.737305  \n",
       "17  4674.627466  3178.737305  \n",
       "18  4790.201025  8040.548340  \n",
       "19  4676.668578  3301.703125  \n",
       "20  4740.744164  7304.942383  \n",
       "21  4699.013649  7304.942383  \n",
       "22  4572.604951  3344.240723  \n",
       "23  4606.871733  3180.936523  \n",
       "24  4623.468569  3564.073486  "
      ]
     },
     "execution_count": 35,
     "metadata": {},
     "output_type": "execute_result"
    }
   ],
   "source": [
    "grid['pred_cost'] = model.predict(grid.drop(columns=['avg_cost']))\n",
    "grid"
   ]
  },
  {
   "cell_type": "code",
   "execution_count": 36,
   "id": "2d92a4b8-29df-48b6-952d-ca66a033b003",
   "metadata": {},
   "outputs": [],
   "source": [
    "C_bar = {\n",
    "    (i,j): float(grid.loc[\n",
    "        (grid.origin_city==i)&(grid.destination_city==j), 'avg_cost'\n",
    "    ].iat[0])\n",
    "    for i,j in itertools.product(suppliers, consumers)\n",
    "}\n",
    "C_hat = {\n",
    "    (i,j): float(grid.loc[\n",
    "        (grid.origin_city==i)&(grid.destination_city==j), 'pred_cost'\n",
    "    ].iat[0])\n",
    "    for i,j in itertools.product(suppliers, consumers)\n",
    "}\n"
   ]
  },
  {
   "cell_type": "code",
   "execution_count": 37,
   "id": "ccd1f669-f260-4a77-948a-ef28744c1ad2",
   "metadata": {},
   "outputs": [],
   "source": [
    "def solve_transport(C):\n",
    "    prob = pulp.LpProblem('Transport_Problem', pulp.LpMinimize)\n",
    "    x = pulp.LpVariable.dicts('x', (suppliers, consumers), lowBound=0, cat='Continuous')\n",
    "    # Целевая функция\n",
    "    prob += pulp.lpSum(C[i,j] * x[i][j] for i,j in itertools.product(suppliers, consumers))\n",
    "    # Запасы\n",
    "    for i in suppliers:\n",
    "        prob += pulp.lpSum(x[i][j] for j in consumers) == supply[i]\n",
    "    # Спрос\n",
    "    for j in consumers:\n",
    "        prob += pulp.lpSum(x[i][j] for i in suppliers) == demand[j]\n",
    "    prob.solve(pulp.PULP_CBC_CMD(msg=False))\n",
    "    return pulp.value(prob.objective)"
   ]
  },
  {
   "cell_type": "code",
   "execution_count": 38,
   "id": "2c3edb48-b567-4dc5-a7ea-bffaa216fb7e",
   "metadata": {},
   "outputs": [
    {
     "name": "stdout",
     "output_type": "stream",
     "text": [
      "Baseline (avg cost): Z = 4724959916.99\n",
      "ML-predicted cost:   Z = 3480245996.87\n",
      "Absolute difference: ΔZ = 1244713920.12\n",
      "Relative change:     26.34%\n"
     ]
    }
   ],
   "source": [
    "Z_base = solve_transport(C_bar)\n",
    "Z_ml   = solve_transport(C_hat)\n",
    "\n",
    "print(f\"Baseline (avg cost): Z = {Z_base:.2f}\")\n",
    "print(f\"ML-predicted cost:   Z = {Z_ml:.2f}\")\n",
    "print(f\"Absolute difference: ΔZ = {Z_base - Z_ml:.2f}\")\n",
    "print(f\"Relative change:     {(Z_base - Z_ml)/Z_base*100:.2f}%\")"
   ]
  },
  {
   "cell_type": "code",
   "execution_count": null,
   "id": "707ff2fb-08c7-4f0d-a2fc-7d1cc32c231b",
   "metadata": {},
   "outputs": [],
   "source": []
  },
  {
   "cell_type": "code",
   "execution_count": null,
   "id": "ba7af33f-00e9-4f0a-9aec-bccabed65ad3",
   "metadata": {},
   "outputs": [],
   "source": []
  },
  {
   "cell_type": "code",
   "execution_count": null,
   "id": "d7b5dbb1-9ef7-4849-ad35-e6cdeb6593ea",
   "metadata": {},
   "outputs": [],
   "source": []
  },
  {
   "cell_type": "code",
   "execution_count": null,
   "id": "ab5c9aaf-5b26-415e-8312-fc4d455e1de3",
   "metadata": {},
   "outputs": [],
   "source": []
  },
  {
   "cell_type": "code",
   "execution_count": null,
   "id": "e2299512-8df9-43e6-aa9f-6581c39f5da7",
   "metadata": {},
   "outputs": [],
   "source": []
  },
  {
   "cell_type": "code",
   "execution_count": null,
   "id": "79152a82-b391-456f-b460-227ff72b6802",
   "metadata": {},
   "outputs": [],
   "source": []
  },
  {
   "cell_type": "code",
   "execution_count": null,
   "id": "87344a91-9688-451b-9256-cb5bf3634509",
   "metadata": {},
   "outputs": [],
   "source": []
  }
 ],
 "metadata": {
  "kernelspec": {
   "display_name": "Python 3 (ipykernel)",
   "language": "python",
   "name": "python3"
  },
  "language_info": {
   "codemirror_mode": {
    "name": "ipython",
    "version": 3
   },
   "file_extension": ".py",
   "mimetype": "text/x-python",
   "name": "python",
   "nbconvert_exporter": "python",
   "pygments_lexer": "ipython3",
   "version": "3.13.2"
  }
 },
 "nbformat": 4,
 "nbformat_minor": 5
}
