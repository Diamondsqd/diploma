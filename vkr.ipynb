{
 "cells": [
  {
   "cell_type": "code",
   "execution_count": 2,
   "id": "4f31c20d-16b3-4eb1-86ad-6364025fba78",
   "metadata": {},
   "outputs": [],
   "source": [
    "import pandas as pd\n",
    "import numpy as np\n",
    "import os\n",
    "from sklearn.model_selection import train_test_split, cross_val_score, GridSearchCV\n",
    "from sklearn.preprocessing import StandardScaler, OneHotEncoder\n",
    "from sklearn.compose import ColumnTransformer\n",
    "from sklearn.pipeline import Pipeline\n",
    "from sklearn.linear_model import LinearRegression\n",
    "from sklearn.ensemble import RandomForestRegressor\n",
    "from xgboost import XGBRegressor\n",
    "import lightgbm as lgb\n",
    "from sklearn.neural_network import MLPRegressor\n",
    "from sklearn.metrics import mean_absolute_error, mean_squared_error, r2_score\n",
    "import matplotlib.pyplot as plt\n",
    "import joblib\n",
    "import pulp\n",
    "import itertools"
   ]
  },
  {
   "cell_type": "code",
   "execution_count": 27,
   "id": "a0c6e738-9e5f-4ab0-9a8e-ae3e279220f5",
   "metadata": {},
   "outputs": [],
   "source": [
    "DATA_PATH = 'transport_dataset_ml.csv'\n",
    "OUTPUT_DIR = 'model_outputs'\n",
    "os.makedirs(OUTPUT_DIR, exist_ok=True)"
   ]
  },
  {
   "cell_type": "code",
   "execution_count": 28,
   "id": "51bd8239-4700-45be-9108-f06bc7eced86",
   "metadata": {},
   "outputs": [],
   "source": [
    "df = pd.read_csv(DATA_PATH)\n",
    "X = df.drop('price_rub', axis=1)\n",
    "y = df['price_rub']"
   ]
  },
  {
   "cell_type": "code",
   "execution_count": 5,
   "id": "900d6cce-1818-487c-b359-c933cb52591d",
   "metadata": {},
   "outputs": [],
   "source": [
    "numeric_features     = ['distance_km', 'weight_tons', 'volume_m3', 'fuel_price']\n",
    "categorical_features = ['origin_city', 'destination_city', 'cargo_type', 'transport_type', 'season', 'day_of_week']\n",
    "preprocessor = ColumnTransformer([\n",
    "    ('num', StandardScaler(), numeric_features),\n",
    "    ('cat', OneHotEncoder(sparse_output=False, handle_unknown='ignore'), categorical_features)\n",
    "], remainder='drop')"
   ]
  },
  {
   "cell_type": "code",
   "execution_count": 6,
   "id": "15cda6c5-4cee-4ff7-99a6-86319ba90f7e",
   "metadata": {},
   "outputs": [],
   "source": [
    "X_train, X_test, y_train, y_test = train_test_split(\n",
    "    X, y, test_size=0.2, random_state=42\n",
    ")\n"
   ]
  },
  {
   "cell_type": "code",
   "execution_count": 7,
   "id": "4c6b382c-3417-4e21-bf1d-6c14c14729f1",
   "metadata": {},
   "outputs": [],
   "source": [
    "models = {\n",
    "    'LinearRegression': LinearRegression(),\n",
    "    'RandomForest': RandomForestRegressor(n_estimators=100, random_state=42),\n",
    "    'XGBoost': XGBRegressor(n_estimators=100, learning_rate=0.1, random_state=42),\n",
    "    'LightGBM': lgb.LGBMRegressor(n_estimators=100, learning_rate=0.1, force_col_wise='true', random_state=42),\n",
    "    'MLP': MLPRegressor(random_state=42, max_iter=500, early_stopping=True)\n",
    "}\n"
   ]
  },
  {
   "cell_type": "code",
   "execution_count": 8,
   "id": "29bacf63-5bd9-4b5d-9ab9-dc548ef5b129",
   "metadata": {},
   "outputs": [
    {
     "name": "stdout",
     "output_type": "stream",
     "text": [
      "[LightGBM] [Info] Total Bins 1078\n",
      "[LightGBM] [Info] Number of data points in the train set: 64000, number of used features: 33\n",
      "[LightGBM] [Info] Start training from score 4659.171268\n"
     ]
    },
    {
     "name": "stderr",
     "output_type": "stream",
     "text": [
      "C:\\Users\\вввв\\AppData\\Local\\Programs\\Python\\Python313\\Lib\\site-packages\\sklearn\\utils\\validation.py:2739: UserWarning: X does not have valid feature names, but LGBMRegressor was fitted with feature names\n",
      "  warnings.warn(\n"
     ]
    },
    {
     "name": "stdout",
     "output_type": "stream",
     "text": [
      "[LightGBM] [Info] Total Bins 1078\n",
      "[LightGBM] [Info] Number of data points in the train set: 64000, number of used features: 33\n",
      "[LightGBM] [Info] Start training from score 4658.764364\n"
     ]
    },
    {
     "name": "stderr",
     "output_type": "stream",
     "text": [
      "C:\\Users\\вввв\\AppData\\Local\\Programs\\Python\\Python313\\Lib\\site-packages\\sklearn\\utils\\validation.py:2739: UserWarning: X does not have valid feature names, but LGBMRegressor was fitted with feature names\n",
      "  warnings.warn(\n"
     ]
    },
    {
     "name": "stdout",
     "output_type": "stream",
     "text": [
      "[LightGBM] [Info] Total Bins 1078\n",
      "[LightGBM] [Info] Number of data points in the train set: 64000, number of used features: 33\n",
      "[LightGBM] [Info] Start training from score 4655.543410\n"
     ]
    },
    {
     "name": "stderr",
     "output_type": "stream",
     "text": [
      "C:\\Users\\вввв\\AppData\\Local\\Programs\\Python\\Python313\\Lib\\site-packages\\sklearn\\utils\\validation.py:2739: UserWarning: X does not have valid feature names, but LGBMRegressor was fitted with feature names\n",
      "  warnings.warn(\n"
     ]
    },
    {
     "name": "stdout",
     "output_type": "stream",
     "text": [
      "[LightGBM] [Info] Total Bins 1078\n",
      "[LightGBM] [Info] Number of data points in the train set: 64000, number of used features: 33\n",
      "[LightGBM] [Info] Start training from score 4658.786494\n"
     ]
    },
    {
     "name": "stderr",
     "output_type": "stream",
     "text": [
      "C:\\Users\\вввв\\AppData\\Local\\Programs\\Python\\Python313\\Lib\\site-packages\\sklearn\\utils\\validation.py:2739: UserWarning: X does not have valid feature names, but LGBMRegressor was fitted with feature names\n",
      "  warnings.warn(\n"
     ]
    },
    {
     "name": "stdout",
     "output_type": "stream",
     "text": [
      "[LightGBM] [Info] Total Bins 1078\n",
      "[LightGBM] [Info] Number of data points in the train set: 64000, number of used features: 33\n",
      "[LightGBM] [Info] Start training from score 4647.185876\n"
     ]
    },
    {
     "name": "stderr",
     "output_type": "stream",
     "text": [
      "C:\\Users\\вввв\\AppData\\Local\\Programs\\Python\\Python313\\Lib\\site-packages\\sklearn\\utils\\validation.py:2739: UserWarning: X does not have valid feature names, but LGBMRegressor was fitted with feature names\n",
      "  warnings.warn(\n"
     ]
    },
    {
     "name": "stdout",
     "output_type": "stream",
     "text": [
      "[LightGBM] [Info] Total Bins 1078\n",
      "[LightGBM] [Info] Number of data points in the train set: 64000, number of used features: 33\n",
      "[LightGBM] [Info] Start training from score 4659.171268\n"
     ]
    },
    {
     "name": "stderr",
     "output_type": "stream",
     "text": [
      "C:\\Users\\вввв\\AppData\\Local\\Programs\\Python\\Python313\\Lib\\site-packages\\sklearn\\utils\\validation.py:2739: UserWarning: X does not have valid feature names, but LGBMRegressor was fitted with feature names\n",
      "  warnings.warn(\n"
     ]
    },
    {
     "name": "stdout",
     "output_type": "stream",
     "text": [
      "[LightGBM] [Info] Total Bins 1078\n",
      "[LightGBM] [Info] Number of data points in the train set: 64000, number of used features: 33\n",
      "[LightGBM] [Info] Start training from score 4658.764364\n"
     ]
    },
    {
     "name": "stderr",
     "output_type": "stream",
     "text": [
      "C:\\Users\\вввв\\AppData\\Local\\Programs\\Python\\Python313\\Lib\\site-packages\\sklearn\\utils\\validation.py:2739: UserWarning: X does not have valid feature names, but LGBMRegressor was fitted with feature names\n",
      "  warnings.warn(\n"
     ]
    },
    {
     "name": "stdout",
     "output_type": "stream",
     "text": [
      "[LightGBM] [Info] Total Bins 1078\n",
      "[LightGBM] [Info] Number of data points in the train set: 64000, number of used features: 33\n",
      "[LightGBM] [Info] Start training from score 4655.543410\n"
     ]
    },
    {
     "name": "stderr",
     "output_type": "stream",
     "text": [
      "C:\\Users\\вввв\\AppData\\Local\\Programs\\Python\\Python313\\Lib\\site-packages\\sklearn\\utils\\validation.py:2739: UserWarning: X does not have valid feature names, but LGBMRegressor was fitted with feature names\n",
      "  warnings.warn(\n"
     ]
    },
    {
     "name": "stdout",
     "output_type": "stream",
     "text": [
      "[LightGBM] [Info] Total Bins 1078\n",
      "[LightGBM] [Info] Number of data points in the train set: 64000, number of used features: 33\n",
      "[LightGBM] [Info] Start training from score 4658.786494\n"
     ]
    },
    {
     "name": "stderr",
     "output_type": "stream",
     "text": [
      "C:\\Users\\вввв\\AppData\\Local\\Programs\\Python\\Python313\\Lib\\site-packages\\sklearn\\utils\\validation.py:2739: UserWarning: X does not have valid feature names, but LGBMRegressor was fitted with feature names\n",
      "  warnings.warn(\n"
     ]
    },
    {
     "name": "stdout",
     "output_type": "stream",
     "text": [
      "[LightGBM] [Info] Total Bins 1078\n",
      "[LightGBM] [Info] Number of data points in the train set: 64000, number of used features: 33\n",
      "[LightGBM] [Info] Start training from score 4647.185876\n"
     ]
    },
    {
     "name": "stderr",
     "output_type": "stream",
     "text": [
      "C:\\Users\\вввв\\AppData\\Local\\Programs\\Python\\Python313\\Lib\\site-packages\\sklearn\\utils\\validation.py:2739: UserWarning: X does not have valid feature names, but LGBMRegressor was fitted with feature names\n",
      "  warnings.warn(\n"
     ]
    },
    {
     "name": "stdout",
     "output_type": "stream",
     "text": [
      "[LightGBM] [Info] Total Bins 1078\n",
      "[LightGBM] [Info] Number of data points in the train set: 64000, number of used features: 33\n",
      "[LightGBM] [Info] Start training from score 4659.171268\n"
     ]
    },
    {
     "name": "stderr",
     "output_type": "stream",
     "text": [
      "C:\\Users\\вввв\\AppData\\Local\\Programs\\Python\\Python313\\Lib\\site-packages\\sklearn\\utils\\validation.py:2739: UserWarning: X does not have valid feature names, but LGBMRegressor was fitted with feature names\n",
      "  warnings.warn(\n"
     ]
    },
    {
     "name": "stdout",
     "output_type": "stream",
     "text": [
      "[LightGBM] [Info] Total Bins 1078\n",
      "[LightGBM] [Info] Number of data points in the train set: 64000, number of used features: 33\n",
      "[LightGBM] [Info] Start training from score 4658.764364\n"
     ]
    },
    {
     "name": "stderr",
     "output_type": "stream",
     "text": [
      "C:\\Users\\вввв\\AppData\\Local\\Programs\\Python\\Python313\\Lib\\site-packages\\sklearn\\utils\\validation.py:2739: UserWarning: X does not have valid feature names, but LGBMRegressor was fitted with feature names\n",
      "  warnings.warn(\n"
     ]
    },
    {
     "name": "stdout",
     "output_type": "stream",
     "text": [
      "[LightGBM] [Info] Total Bins 1078\n",
      "[LightGBM] [Info] Number of data points in the train set: 64000, number of used features: 33\n",
      "[LightGBM] [Info] Start training from score 4655.543410\n"
     ]
    },
    {
     "name": "stderr",
     "output_type": "stream",
     "text": [
      "C:\\Users\\вввв\\AppData\\Local\\Programs\\Python\\Python313\\Lib\\site-packages\\sklearn\\utils\\validation.py:2739: UserWarning: X does not have valid feature names, but LGBMRegressor was fitted with feature names\n",
      "  warnings.warn(\n"
     ]
    },
    {
     "name": "stdout",
     "output_type": "stream",
     "text": [
      "[LightGBM] [Info] Total Bins 1078\n",
      "[LightGBM] [Info] Number of data points in the train set: 64000, number of used features: 33\n",
      "[LightGBM] [Info] Start training from score 4658.786494\n"
     ]
    },
    {
     "name": "stderr",
     "output_type": "stream",
     "text": [
      "C:\\Users\\вввв\\AppData\\Local\\Programs\\Python\\Python313\\Lib\\site-packages\\sklearn\\utils\\validation.py:2739: UserWarning: X does not have valid feature names, but LGBMRegressor was fitted with feature names\n",
      "  warnings.warn(\n"
     ]
    },
    {
     "name": "stdout",
     "output_type": "stream",
     "text": [
      "[LightGBM] [Info] Total Bins 1078\n",
      "[LightGBM] [Info] Number of data points in the train set: 64000, number of used features: 33\n",
      "[LightGBM] [Info] Start training from score 4647.185876\n"
     ]
    },
    {
     "name": "stderr",
     "output_type": "stream",
     "text": [
      "C:\\Users\\вввв\\AppData\\Local\\Programs\\Python\\Python313\\Lib\\site-packages\\sklearn\\utils\\validation.py:2739: UserWarning: X does not have valid feature names, but LGBMRegressor was fitted with feature names\n",
      "  warnings.warn(\n"
     ]
    },
    {
     "name": "stdout",
     "output_type": "stream",
     "text": [
      "[LightGBM] [Info] Total Bins 1078\n",
      "[LightGBM] [Info] Number of data points in the train set: 80000, number of used features: 33\n",
      "[LightGBM] [Info] Start training from score 4655.890283\n"
     ]
    },
    {
     "name": "stderr",
     "output_type": "stream",
     "text": [
      "C:\\Users\\вввв\\AppData\\Local\\Programs\\Python\\Python313\\Lib\\site-packages\\sklearn\\utils\\validation.py:2739: UserWarning: X does not have valid feature names, but LGBMRegressor was fitted with feature names\n",
      "  warnings.warn(\n"
     ]
    },
    {
     "name": "stdout",
     "output_type": "stream",
     "text": [
      "Кросс-валидация:\n",
      "                   CV MAE  CV RMSE  CV R2\n",
      "Model                                   \n",
      "LinearRegression  770.19  1089.25   0.89\n",
      "RandomForest       22.38    30.86   1.00\n",
      "XGBoost            25.20    33.74   1.00\n",
      "LightGBM           31.75    42.33   1.00\n",
      "MLP               100.91   139.95   1.00\n",
      "\n",
      "Тестовые результаты:\n",
      "                      MAE     RMSE    R2\n",
      "Model                                  \n",
      "LinearRegression  768.30  1084.61  0.89\n",
      "RandomForest       21.22    29.14  1.00\n",
      "XGBoost            24.51    32.70  1.00\n",
      "LightGBM           31.08    41.24  1.00\n",
      "MLP                70.13    94.92  1.00\n",
      "\n",
      "Графики и важности сохранены в папке: model_outputs\n"
     ]
    }
   ],
   "source": [
    "cv_results = []\n",
    "test_results = []\n",
    "\n",
    "for name, model in models.items():\n",
    "    pipe = Pipeline([('preproc', preprocessor), ('model', model)])\n",
    "    \n",
    "    mae_cv  = -cross_val_score(pipe, X_train, y_train, cv=5,\n",
    "                               scoring='neg_mean_absolute_error').mean()\n",
    "    rmse_cv = np.sqrt(-cross_val_score(pipe, X_train, y_train, cv=5,\n",
    "                                       scoring='neg_mean_squared_error').mean())\n",
    "    r2_cv   = cross_val_score(pipe, X_train, y_train, cv=5,\n",
    "                              scoring='r2').mean()\n",
    "    cv_results.append({'Model': name, 'CV MAE': round(mae_cv,2),\n",
    "                       'CV RMSE': round(rmse_cv,2), 'CV R2': round(r2_cv,2)})\n",
    "    \n",
    "    pipe.fit(X_train, y_train)\n",
    "    y_pred = pipe.predict(X_test)\n",
    "    mae, rmse, r2 = (mean_absolute_error(y_test, y_pred),\n",
    "                     np.sqrt(mean_squared_error(y_test, y_pred)),\n",
    "                     r2_score(y_test, y_pred))\n",
    "    test_results.append({'Model': name, 'MAE': round(mae,2),\n",
    "                         'RMSE': round(rmse,2), 'R2': round(r2,2)})\n",
    "    \n",
    "    plt.figure(figsize=(5,5))\n",
    "    plt.scatter(y_test, y_pred, s=10, alpha=0.6)\n",
    "    mn, mx = min(y_test.min(), y_pred.min()), max(y_test.max(), y_pred.max())\n",
    "    plt.plot([mn, mx], [mn, mx], '--', c='gray')\n",
    "    plt.xlabel('Фактические цены')\n",
    "    plt.ylabel('Прогнозные цены')\n",
    "    plt.title(f'{name}: Фактические vs Прогнозные')\n",
    "    plt.tight_layout()\n",
    "    plt.savefig(os.path.join(OUTPUT_DIR, f'{name}_scatter.png'))\n",
    "    plt.close()\n",
    "    \n",
    "    if hasattr(model, 'feature_importances_') or hasattr(pipe.named_steps['model'], 'feature_importances_'):\n",
    "        feat_imp = pipe.named_steps['model'].feature_importances_\n",
    "        cat_names = pipe.named_steps['preproc']\\\n",
    "            .named_transformers_['cat']\\\n",
    "            .get_feature_names_out(categorical_features)\n",
    "        feat_names = numeric_features + list(cat_names)\n",
    "        idx = np.argsort(feat_imp)[-10:]\n",
    "        plt.figure(figsize=(6,4))\n",
    "        plt.barh(np.array(feat_names)[idx], feat_imp[idx])\n",
    "        plt.xlabel('Важность признака')\n",
    "        plt.title(f'{name}: Топ-10 признаков')\n",
    "        plt.tight_layout()\n",
    "        plt.savefig(os.path.join(OUTPUT_DIR, f'{name}_featimp.png'))\n",
    "        plt.close()\n",
    "\n",
    "cv_df   = pd.DataFrame(cv_results).set_index('Model')\n",
    "test_df = pd.DataFrame(test_results).set_index('Model')\n",
    "\n",
    "cv_df.to_csv(os.path.join(OUTPUT_DIR, 'cv_results.csv'))\n",
    "test_df.to_csv(os.path.join(OUTPUT_DIR, 'test_results.csv'))\n",
    "\n",
    "print(\"Кросс-валидация:\\n\", cv_df)\n",
    "print(\"\\nТестовые результаты:\\n\", test_df)\n",
    "print(f\"\\nГрафики и важности сохранены в папке: {OUTPUT_DIR}\")"
   ]
  },
  {
   "cell_type": "code",
   "execution_count": 9,
   "id": "e25145f6-36cc-4a8f-bb0a-448541636c36",
   "metadata": {},
   "outputs": [
    {
     "name": "stdout",
     "output_type": "stream",
     "text": [
      "Сохранён XGBoost-пайплайн в файл xgboost_pipeline.pkl\n",
      "[LightGBM] [Info] Total Bins 1078\n",
      "[LightGBM] [Info] Number of data points in the train set: 80000, number of used features: 33\n",
      "[LightGBM] [Info] Start training from score 4655.890283\n"
     ]
    }
   ],
   "source": [
    "for name, model in models.items():\n",
    "    pipe = Pipeline([('preproc', preprocessor), ('model', model)])\n",
    "    pipe.fit(X_train, y_train)\n",
    "    if name == 'XGBoost':\n",
    "        joblib.dump(pipe, 'xgboost_pipeline.pkl')\n",
    "        print(\"Сохранён XGBoost-пайплайн в файл xgboost_pipeline.pkl\")"
   ]
  },
  {
   "cell_type": "code",
   "execution_count": 29,
   "id": "b73c66ad-597c-45e7-afae-d3f0533a4923",
   "metadata": {},
   "outputs": [],
   "source": [
    "model = joblib.load('xgboost_pipeline.pkl')\n",
    "df    = pd.read_csv('transport_dataset_ml.csv')"
   ]
  },
  {
   "cell_type": "code",
   "execution_count": 30,
   "id": "d4491079-294a-47e3-a35c-612ef67ed2ce",
   "metadata": {},
   "outputs": [],
   "source": [
    "supply   = df.groupby('origin_city')['weight_tons'].sum().to_dict()\n",
    "demand   = df.groupby('destination_city')['weight_tons'].sum().to_dict()\n",
    "suppliers  = list(supply.keys())\n",
    "consumers  = list(demand.keys())"
   ]
  },
  {
   "cell_type": "code",
   "execution_count": 31,
   "id": "c80f6517-e6e5-4d95-92d8-1cc21002df16",
   "metadata": {},
   "outputs": [],
   "source": [
    "grid = pd.DataFrame(\n",
    "    itertools.product(suppliers, consumers),\n",
    "    columns=['origin_city','destination_city']\n",
    ")"
   ]
  },
  {
   "cell_type": "code",
   "execution_count": 32,
   "id": "a423cbd4-9fee-4e67-a901-b9ceadefdac4",
   "metadata": {},
   "outputs": [],
   "source": [
    "numeric_cols = ['distance_km','weight_tons','volume_m3','fuel_price']\n",
    "agg_num = (\n",
    "    df\n",
    "    .groupby(['origin_city','destination_city'])[numeric_cols]\n",
    "    .mean()\n",
    "    .reset_index()\n",
    ")\n",
    "categorical_cols = ['cargo_type','transport_type','season','day_of_week']\n",
    "agg_cat = (\n",
    "    df\n",
    "    .groupby(['origin_city','destination_city'])[categorical_cols]\n",
    "    .agg(lambda x: x.mode().iat[0])\n",
    "    .reset_index()\n",
    ")\n"
   ]
  },
  {
   "cell_type": "code",
   "execution_count": 33,
   "id": "8a96a202-77fa-4ff0-a5b4-42a120844123",
   "metadata": {},
   "outputs": [],
   "source": [
    "grid = (\n",
    "    grid\n",
    "    .merge(agg_num, on=['origin_city','destination_city'], how='left')\n",
    "    .merge(agg_cat, on=['origin_city','destination_city'], how='left')\n",
    ")\n"
   ]
  },
  {
   "cell_type": "code",
   "execution_count": 34,
   "id": "e4e6a834-7358-4587-ab52-64b81b39c0f4",
   "metadata": {},
   "outputs": [],
   "source": [
    "avg = (\n",
    "    df\n",
    "    .groupby(['origin_city','destination_city'])['price_rub']\n",
    "    .mean()\n",
    "    .reset_index(name='avg_cost')\n",
    ")\n",
    "grid = grid.merge(avg, on=['origin_city','destination_city'], how='left')"
   ]
  },
  {
   "cell_type": "code",
   "execution_count": 39,
   "id": "ba725b8b-79e4-45c2-aab0-259c5c7b8caf",
   "metadata": {},
   "outputs": [],
   "source": [
    "grid['pred_cost'] = model.predict(grid.drop(columns=['avg_cost']))\n"
   ]
  },
  {
   "cell_type": "code",
   "execution_count": 36,
   "id": "2d92a4b8-29df-48b6-952d-ca66a033b003",
   "metadata": {},
   "outputs": [],
   "source": [
    "C_bar = {\n",
    "    (i,j): float(grid.loc[\n",
    "        (grid.origin_city==i)&(grid.destination_city==j), 'avg_cost'\n",
    "    ].iat[0])\n",
    "    for i,j in itertools.product(suppliers, consumers)\n",
    "}\n",
    "C_hat = {\n",
    "    (i,j): float(grid.loc[\n",
    "        (grid.origin_city==i)&(grid.destination_city==j), 'pred_cost'\n",
    "    ].iat[0])\n",
    "    for i,j in itertools.product(suppliers, consumers)\n",
    "}\n"
   ]
  },
  {
   "cell_type": "code",
   "execution_count": 37,
   "id": "ccd1f669-f260-4a77-948a-ef28744c1ad2",
   "metadata": {},
   "outputs": [],
   "source": [
    "def solve_transport(C):\n",
    "    prob = pulp.LpProblem('Transport_Problem', pulp.LpMinimize)\n",
    "    x = pulp.LpVariable.dicts('x', (suppliers, consumers), lowBound=0, cat='Continuous')\n",
    "    # Целевая функция\n",
    "    prob += pulp.lpSum(C[i,j] * x[i][j] for i,j in itertools.product(suppliers, consumers))\n",
    "    # Запасы\n",
    "    for i in suppliers:\n",
    "        prob += pulp.lpSum(x[i][j] for j in consumers) == supply[i]\n",
    "    # Спрос\n",
    "    for j in consumers:\n",
    "        prob += pulp.lpSum(x[i][j] for i in suppliers) == demand[j]\n",
    "    prob.solve(pulp.PULP_CBC_CMD(msg=False))\n",
    "    return pulp.value(prob.objective)"
   ]
  },
  {
   "cell_type": "code",
   "execution_count": 38,
   "id": "2c3edb48-b567-4dc5-a7ea-bffaa216fb7e",
   "metadata": {},
   "outputs": [
    {
     "name": "stdout",
     "output_type": "stream",
     "text": [
      "Baseline (avg cost): Z = 4724959916.99\n",
      "ML-predicted cost:   Z = 3480245996.87\n",
      "Absolute difference: ΔZ = 1244713920.12\n",
      "Relative change:     26.34%\n"
     ]
    }
   ],
   "source": [
    "Z_base = solve_transport(C_bar)\n",
    "Z_ml   = solve_transport(C_hat)\n",
    "\n",
    "print(f\"Baseline (avg cost): Z = {Z_base:.2f}\")\n",
    "print(f\"ML-predicted cost:   Z = {Z_ml:.2f}\")\n",
    "print(f\"Absolute difference: ΔZ = {Z_base - Z_ml:.2f}\")\n",
    "print(f\"Relative change:     {(Z_base - Z_ml)/Z_base*100:.2f}%\")"
   ]
  },
  {
   "cell_type": "code",
   "execution_count": null,
   "id": "707ff2fb-08c7-4f0d-a2fc-7d1cc32c231b",
   "metadata": {},
   "outputs": [],
   "source": []
  },
  {
   "cell_type": "code",
   "execution_count": null,
   "id": "ba7af33f-00e9-4f0a-9aec-bccabed65ad3",
   "metadata": {},
   "outputs": [],
   "source": []
  },
  {
   "cell_type": "code",
   "execution_count": null,
   "id": "d7b5dbb1-9ef7-4849-ad35-e6cdeb6593ea",
   "metadata": {},
   "outputs": [],
   "source": []
  },
  {
   "cell_type": "code",
   "execution_count": null,
   "id": "ab5c9aaf-5b26-415e-8312-fc4d455e1de3",
   "metadata": {},
   "outputs": [],
   "source": []
  },
  {
   "cell_type": "code",
   "execution_count": null,
   "id": "e2299512-8df9-43e6-aa9f-6581c39f5da7",
   "metadata": {},
   "outputs": [],
   "source": []
  },
  {
   "cell_type": "code",
   "execution_count": null,
   "id": "79152a82-b391-456f-b460-227ff72b6802",
   "metadata": {},
   "outputs": [],
   "source": []
  },
  {
   "cell_type": "code",
   "execution_count": null,
   "id": "87344a91-9688-451b-9256-cb5bf3634509",
   "metadata": {},
   "outputs": [],
   "source": []
  }
 ],
 "metadata": {
  "kernelspec": {
   "display_name": "Python 3 (ipykernel)",
   "language": "python",
   "name": "python3"
  },
  "language_info": {
   "codemirror_mode": {
    "name": "ipython",
    "version": 3
   },
   "file_extension": ".py",
   "mimetype": "text/x-python",
   "name": "python",
   "nbconvert_exporter": "python",
   "pygments_lexer": "ipython3",
   "version": "3.13.2"
  }
 },
 "nbformat": 4,
 "nbformat_minor": 5
}
